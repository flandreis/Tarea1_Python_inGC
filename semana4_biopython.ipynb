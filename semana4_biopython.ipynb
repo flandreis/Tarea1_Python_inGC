{
  "nbformat": 4,
  "nbformat_minor": 0,
  "metadata": {
    "colab": {
      "provenance": [],
      "include_colab_link": true
    },
    "kernelspec": {
      "name": "python3",
      "display_name": "Python 3"
    },
    "language_info": {
      "name": "python"
    }
  },
  "cells": [
    {
      "cell_type": "markdown",
      "metadata": {
        "id": "view-in-github",
        "colab_type": "text"
      },
      "source": [
        "<a href=\"https://colab.research.google.com/github/flandreis/Tarea1_Python_inGC/blob/main/semana4_biopython.ipynb\" target=\"_parent\"><img src=\"https://colab.research.google.com/assets/colab-badge.svg\" alt=\"Open In Colab\"/></a>"
      ]
    },
    {
      "cell_type": "markdown",
      "source": [
        "# Bases de datos biológicas\n",
        "Las base de datos biológicas son repositorios especializados que almacenan y organizan información relacionada con la biología molecular, la genética, la bioinformática y otras disciplinas. Continen información acerca de secuencias nucleóticas, secuencias de proteínas, genomas, variación genética, redes y vías biológicas.\n",
        "\n",
        "*   Proporcionan acceso a grandes volumenes de información.\n",
        "*   Ayudan a estandarizar y anotar datos biologicos.\n",
        "*   Comparten información entre la comunidad científica.\n"
      ],
      "metadata": {
        "id": "uUTQQW11nuaZ"
      }
    },
    {
      "cell_type": "markdown",
      "source": [
        "\n",
        "\n",
        "*   [GenBank National Center for Biotechnology Information](https://www.ncbi.nlm.nih.gov/genbank/)\n",
        "*   [EMBL-EBI European Molecular Biology Laboratory](https://www.ebi.ac.uk/services)\n",
        "*   [DNA Data Bank of Japan](https://www.ddbj.nig.ac.jp/index-e.html)\n",
        "*   [National Genomics Data Center](https://ngdc.cncb.ac.cn/)\n",
        "\n",
        "### Bases de datos secundarias\n",
        "*   [UniProt](https://www.uniprot.org/)\n",
        "*   [PROSITE](https://prosite.expasy.org/)\n",
        "*   [Worldwide Protein Data Bank](https://www.wwpdb.org/)\n",
        "*   [RCSB Protein Data Bank](https://www.rcsb.org/)\n",
        "*   [ChEMBL](https://www.ebi.ac.uk/chembl/)\n",
        "*   [EcoCyc](https://ecocyc.org/)\n",
        "*   [BRENDA](https://www.brenda-enzymes.org/)\n",
        "*   [OMIM](https://www.omim.org/)\n",
        "*   [PubChem](https://pubchem.ncbi.nlm.nih.gov/)\n",
        "*   [Catalogue of Life](https://www.catalogueoflife.org/)\n",
        "\n"
      ],
      "metadata": {
        "id": "iHWbVwJGn-5_"
      }
    },
    {
      "cell_type": "code",
      "source": [
        "from google.colab import drive\n",
        "drive.mount('/content/drive')"
      ],
      "metadata": {
        "colab": {
          "base_uri": "https://localhost:8080/"
        },
        "id": "yFf2_J0Yw0o6",
        "outputId": "466399b8-6936-4091-f06b-585a7795529b"
      },
      "execution_count": 1,
      "outputs": [
        {
          "output_type": "stream",
          "name": "stdout",
          "text": [
            "Mounted at /content/drive\n"
          ]
        }
      ]
    },
    {
      "cell_type": "markdown",
      "source": [
        "### BioPython\n",
        "Es una biblioteca con una colección de herramientas enfocadas a la biología computacional y bioinformática."
      ],
      "metadata": {
        "id": "BYYEKth2JELn"
      }
    },
    {
      "cell_type": "code",
      "execution_count": 20,
      "metadata": {
        "colab": {
          "base_uri": "https://localhost:8080/"
        },
        "id": "3fhaxD1unqgD",
        "outputId": "c946fa7f-af16-46ca-c343-b5c19dd4f7c4"
      },
      "outputs": [
        {
          "output_type": "stream",
          "name": "stdout",
          "text": [
            "Requirement already satisfied: Biopython in /usr/local/lib/python3.10/dist-packages (1.84)\n",
            "Requirement already satisfied: numpy in /usr/local/lib/python3.10/dist-packages (from Biopython) (1.26.4)\n"
          ]
        }
      ],
      "source": [
        "pip install Biopython"
      ]
    },
    {
      "cell_type": "markdown",
      "source": [
        "Leer un archivo Fasta"
      ],
      "metadata": {
        "id": "Mpb1Lh0lMUbo"
      }
    },
    {
      "cell_type": "code",
      "source": [
        "from Bio import SeqIO\n",
        "for seqfile in SeqIO.parse(\"/sequence.fasta\", \"fasta\"):\n",
        "  print(seqfile.id)\n",
        "  print(repr(seqfile.seq))\n",
        "  print(len(seqfile))\n",
        "  #el .parse es un iterador, va leer el archivo"
      ],
      "metadata": {
        "colab": {
          "base_uri": "https://localhost:8080/"
        },
        "id": "YVXb5r6Nyfbe",
        "outputId": "1f34d25e-58b8-41a1-bd47-fc9ccf8e2af9"
      },
      "execution_count": 21,
      "outputs": [
        {
          "output_type": "stream",
          "name": "stdout",
          "text": [
            "OM489474.1:c366-1\n",
            "Seq('GCTGGTTCAAGGGCTTTATTCCATCTCTCTCGGTGCAGGAGGCGGCGGGTGTGG...GCT')\n",
            "366\n"
          ]
        }
      ]
    },
    {
      "cell_type": "code",
      "source": [
        "print(seqfile)"
      ],
      "metadata": {
        "colab": {
          "base_uri": "https://localhost:8080/"
        },
        "id": "W50lPL3Q1UOh",
        "outputId": "4fb87c6f-63a5-4959-e6c3-29a6ff3b3e6a"
      },
      "execution_count": 22,
      "outputs": [
        {
          "output_type": "stream",
          "name": "stdout",
          "text": [
            "ID: OM489474.1:c366-1\n",
            "Name: OM489474.1:c366-1\n",
            "Description: OM489474.1:c366-1 Homo sapiens INS (INS) mRNA, partial cds, alternatively spliced\n",
            "Number of features: 0\n",
            "Seq('GCTGGTTCAAGGGCTTTATTCCATCTCTCTCGGTGCAGGAGGCGGCGGGTGTGG...GCT')\n"
          ]
        }
      ]
    },
    {
      "cell_type": "code",
      "source": [
        "seq = seqfile.seq\n",
        "print(seq)\n",
        "#la secuencia en una variable \"seq\""
      ],
      "metadata": {
        "colab": {
          "base_uri": "https://localhost:8080/"
        },
        "id": "SFtUnjEy1czi",
        "outputId": "8c205f3d-a5ab-483c-e64a-1fdef29e2361"
      },
      "execution_count": 23,
      "outputs": [
        {
          "output_type": "stream",
          "name": "stdout",
          "text": [
            "GCTGGTTCAAGGGCTTTATTCCATCTCTCTCGGTGCAGGAGGCGGCGGGTGTGGGGCTGCCTGCGGGCTGCGTCTAGTTGCAGTAGTTCTCCAGCCTGCAGGTCCTCTGCCTCCCGGCGGGTCTTGGGTGTGTAGAAGAAGCCTCGTTCCCCGCACACTAGGTAGAGAGCTTCCACCAGGTGTGAGCCGCACAGGTGTTGGTTCACAAAGGCTGCGGCTGGGTCAGGTCCCCAGAGGGCCAGCAGCGCCAGCAGGGGCAGGAGGCGCATCCACAGGGCCATGGCAGAAGGACAGTGATCTGACGCAAAGGCCCTTGGAACAGACCTGCTTGATGGCCTCTTCTGATGCAGCCTGTCCTGGAGGGCT\n"
          ]
        }
      ]
    },
    {
      "cell_type": "markdown",
      "source": [
        "### Complemento"
      ],
      "metadata": {
        "id": "5JjDkol7B91X"
      }
    },
    {
      "cell_type": "code",
      "source": [
        "seqcomp=seq.complement()\n",
        "print(seq)\n",
        "print(seqcomp)\n",
        "#es el complemento de la secuencia anterior"
      ],
      "metadata": {
        "colab": {
          "base_uri": "https://localhost:8080/"
        },
        "id": "4ASBElJ115kd",
        "outputId": "ec7f093d-f70e-49ee-fd34-16d8db8a66ce"
      },
      "execution_count": 27,
      "outputs": [
        {
          "output_type": "stream",
          "name": "stdout",
          "text": [
            "GCTGGTTCAAGGGCTTTATTCCATCTCTCTCGGTGCAGGAGGCGGCGGGTGTGGGGCTGCCTGCGGGCTGCGTCTAGTTGCAGTAGTTCTCCAGCCTGCAGGTCCTCTGCCTCCCGGCGGGTCTTGGGTGTGTAGAAGAAGCCTCGTTCCCCGCACACTAGGTAGAGAGCTTCCACCAGGTGTGAGCCGCACAGGTGTTGGTTCACAAAGGCTGCGGCTGGGTCAGGTCCCCAGAGGGCCAGCAGCGCCAGCAGGGGCAGGAGGCGCATCCACAGGGCCATGGCAGAAGGACAGTGATCTGACGCAAAGGCCCTTGGAACAGACCTGCTTGATGGCCTCTTCTGATGCAGCCTGTCCTGGAGGGCT\n",
            "CGACCAAGTTCCCGAAATAAGGTAGAGAGAGCCACGTCCTCCGCCGCCCACACCCCGACGGACGCCCGACGCAGATCAACGTCATCAAGAGGTCGGACGTCCAGGAGACGGAGGGCCGCCCAGAACCCACACATCTTCTTCGGAGCAAGGGGCGTGTGATCCATCTCTCGAAGGTGGTCCACACTCGGCGTGTCCACAACCAAGTGTTTCCGACGCCGACCCAGTCCAGGGGTCTCCCGGTCGTCGCGGTCGTCCCCGTCCTCCGCGTAGGTGTCCCGGTACCGTCTTCCTGTCACTAGACTGCGTTTCCGGGAACCTTGTCTGGACGAACTACCGGAGAAGACTACGTCGGACAGGACCTCCCGA\n"
          ]
        }
      ]
    },
    {
      "cell_type": "markdown",
      "source": [
        "complemento inverso"
      ],
      "metadata": {
        "id": "U0GWFD_ujrhB"
      }
    },
    {
      "cell_type": "code",
      "source": [
        "seqrevcomp=seq.reverse_complement()\n",
        "print(seq)\n",
        "print(seqrevcomp)\n"
      ],
      "metadata": {
        "colab": {
          "base_uri": "https://localhost:8080/"
        },
        "id": "9JG6nCHu3gKh",
        "outputId": "26a86cae-cd36-4190-8589-2acbe7da9e35"
      },
      "execution_count": 28,
      "outputs": [
        {
          "output_type": "stream",
          "name": "stdout",
          "text": [
            "GCTGGTTCAAGGGCTTTATTCCATCTCTCTCGGTGCAGGAGGCGGCGGGTGTGGGGCTGCCTGCGGGCTGCGTCTAGTTGCAGTAGTTCTCCAGCCTGCAGGTCCTCTGCCTCCCGGCGGGTCTTGGGTGTGTAGAAGAAGCCTCGTTCCCCGCACACTAGGTAGAGAGCTTCCACCAGGTGTGAGCCGCACAGGTGTTGGTTCACAAAGGCTGCGGCTGGGTCAGGTCCCCAGAGGGCCAGCAGCGCCAGCAGGGGCAGGAGGCGCATCCACAGGGCCATGGCAGAAGGACAGTGATCTGACGCAAAGGCCCTTGGAACAGACCTGCTTGATGGCCTCTTCTGATGCAGCCTGTCCTGGAGGGCT\n",
            "AGCCCTCCAGGACAGGCTGCATCAGAAGAGGCCATCAAGCAGGTCTGTTCCAAGGGCCTTTGCGTCAGATCACTGTCCTTCTGCCATGGCCCTGTGGATGCGCCTCCTGCCCCTGCTGGCGCTGCTGGCCCTCTGGGGACCTGACCCAGCCGCAGCCTTTGTGAACCAACACCTGTGCGGCTCACACCTGGTGGAAGCTCTCTACCTAGTGTGCGGGGAACGAGGCTTCTTCTACACACCCAAGACCCGCCGGGAGGCAGAGGACCTGCAGGCTGGAGAACTACTGCAACTAGACGCAGCCCGCAGGCAGCCCCACACCCGCCGCCTCCTGCACCGAGAGAGATGGAATAAAGCCCTTGAACCAGC\n"
          ]
        }
      ]
    },
    {
      "cell_type": "markdown",
      "source": [
        "###Composición de los nucleótidos"
      ],
      "metadata": {
        "id": "qQD_EGSPR3wZ"
      }
    },
    {
      "cell_type": "code",
      "source": [
        "def nucleotides_composition(seq):\n",
        "  nucleotidos = {'A': 0, 'C': 0, 'G': 0, 'T': 0}\n",
        "  for n in nucleotides:\n",
        "    nucleotides[n] = seq.count(n)/len(seq)+100\n",
        "  return nucleotides\n",
        "  nuc = nucleotides_composition(seq)\n",
        "  nuc"
      ],
      "metadata": {
        "id": "CK-2ib0C4mUm"
      },
      "execution_count": 31,
      "outputs": []
    },
    {
      "cell_type": "markdown",
      "source": [
        "### GC content"
      ],
      "metadata": {
        "id": "VvX8EjiqV3Eg"
      }
    },
    {
      "cell_type": "code",
      "source": [
        "from Bio.SeqUtils import gc_fraction #forma de agregar de manera directa a gc, como acceso directo\n",
        "gc = gc_fraction(seq) * 100\n",
        "print(\"GC % \", gc)"
      ],
      "metadata": {
        "colab": {
          "base_uri": "https://localhost:8080/"
        },
        "id": "HmDG3AfC5S48",
        "outputId": "cbf93f1d-2678-4777-d448-0bf40b152701"
      },
      "execution_count": 33,
      "outputs": [
        {
          "output_type": "stream",
          "name": "stdout",
          "text": [
            "GC %  62.568306010928964\n"
          ]
        }
      ]
    },
    {
      "cell_type": "markdown",
      "source": [],
      "metadata": {
        "id": "FdqduIam5xi1"
      }
    },
    {
      "cell_type": "markdown",
      "source": [
        "### Transcripción"
      ],
      "metadata": {
        "id": "2DVk84fTxp_0"
      }
    },
    {
      "cell_type": "code",
      "source": [
        "rnaseq = seq.transcribe()\n",
        "print(seq)\n",
        "print(rnaseq)"
      ],
      "metadata": {
        "colab": {
          "base_uri": "https://localhost:8080/"
        },
        "id": "FEjuAKr56vT8",
        "outputId": "d0937e3f-5156-4dc3-c216-7d98aeecc777"
      },
      "execution_count": 34,
      "outputs": [
        {
          "output_type": "stream",
          "name": "stdout",
          "text": [
            "GCTGGTTCAAGGGCTTTATTCCATCTCTCTCGGTGCAGGAGGCGGCGGGTGTGGGGCTGCCTGCGGGCTGCGTCTAGTTGCAGTAGTTCTCCAGCCTGCAGGTCCTCTGCCTCCCGGCGGGTCTTGGGTGTGTAGAAGAAGCCTCGTTCCCCGCACACTAGGTAGAGAGCTTCCACCAGGTGTGAGCCGCACAGGTGTTGGTTCACAAAGGCTGCGGCTGGGTCAGGTCCCCAGAGGGCCAGCAGCGCCAGCAGGGGCAGGAGGCGCATCCACAGGGCCATGGCAGAAGGACAGTGATCTGACGCAAAGGCCCTTGGAACAGACCTGCTTGATGGCCTCTTCTGATGCAGCCTGTCCTGGAGGGCT\n",
            "GCUGGUUCAAGGGCUUUAUUCCAUCUCUCUCGGUGCAGGAGGCGGCGGGUGUGGGGCUGCCUGCGGGCUGCGUCUAGUUGCAGUAGUUCUCCAGCCUGCAGGUCCUCUGCCUCCCGGCGGGUCUUGGGUGUGUAGAAGAAGCCUCGUUCCCCGCACACUAGGUAGAGAGCUUCCACCAGGUGUGAGCCGCACAGGUGUUGGUUCACAAAGGCUGCGGCUGGGUCAGGUCCCCAGAGGGCCAGCAGCGCCAGCAGGGGCAGGAGGCGCAUCCACAGGGCCAUGGCAGAAGGACAGUGAUCUGACGCAAAGGCCCUUGGAACAGACCUGCUUGAUGGCCUCUUCUGAUGCAGCCUGUCCUGGAGGGCU\n"
          ]
        }
      ]
    },
    {
      "cell_type": "markdown",
      "source": [
        "### Traducción"
      ],
      "metadata": {
        "id": "JbdoAMyxmVME"
      }
    },
    {
      "cell_type": "code",
      "source": [
        "seqtranslate = seq.translate()\n",
        "print(seq)\n",
        "print(seqtranslate)"
      ],
      "metadata": {
        "colab": {
          "base_uri": "https://localhost:8080/"
        },
        "id": "YmieSBKL6_0l",
        "outputId": "114e17a2-e0c1-4cbe-d06b-4d81f7565a4d"
      },
      "execution_count": 36,
      "outputs": [
        {
          "output_type": "stream",
          "name": "stdout",
          "text": [
            "GCTGGTTCAAGGGCTTTATTCCATCTCTCTCGGTGCAGGAGGCGGCGGGTGTGGGGCTGCCTGCGGGCTGCGTCTAGTTGCAGTAGTTCTCCAGCCTGCAGGTCCTCTGCCTCCCGGCGGGTCTTGGGTGTGTAGAAGAAGCCTCGTTCCCCGCACACTAGGTAGAGAGCTTCCACCAGGTGTGAGCCGCACAGGTGTTGGTTCACAAAGGCTGCGGCTGGGTCAGGTCCCCAGAGGGCCAGCAGCGCCAGCAGGGGCAGGAGGCGCATCCACAGGGCCATGGCAGAAGGACAGTGATCTGACGCAAAGGCCCTTGGAACAGACCTGCTTGATGGCCTCTTCTGATGCAGCCTGTCCTGGAGGGCT\n",
            "AGSRALFHLSRCRRRRVWGCLRAASSCSSSPACRSSASRRVLGV*KKPRSPHTR*RASTRCEPHRCWFTKAAAGSGPQRASSASRGRRRIHRAMAEGQ*SDAKALGTDLLDGLF*CSLSWRA\n"
          ]
        }
      ]
    },
    {
      "cell_type": "markdown",
      "source": [
        "¿Todas las secuencias de inicio son iguales?"
      ],
      "metadata": {
        "id": "xnZFLbFIbBAh"
      }
    },
    {
      "cell_type": "markdown",
      "source": [
        "https://biopython.org/docs/latest/Tutorial/chapter_seq_objects.html"
      ],
      "metadata": {
        "id": "VFby1nDEIyRd"
      }
    },
    {
      "cell_type": "markdown",
      "source": [
        "### Conectarse a una base de datos"
      ],
      "metadata": {
        "id": "4_zAlxgnN7O1"
      }
    }
  ]
}