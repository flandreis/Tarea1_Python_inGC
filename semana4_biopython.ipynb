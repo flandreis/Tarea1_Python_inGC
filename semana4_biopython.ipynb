{
  "nbformat": 4,
  "nbformat_minor": 0,
  "metadata": {
    "colab": {
      "provenance": [],
      "toc_visible": true,
      "include_colab_link": true
    },
    "kernelspec": {
      "name": "python3",
      "display_name": "Python 3"
    },
    "language_info": {
      "name": "python"
    }
  },
  "cells": [
    {
      "cell_type": "markdown",
      "metadata": {
        "id": "view-in-github",
        "colab_type": "text"
      },
      "source": [
        "<a href=\"https://colab.research.google.com/github/flandreis/Tarea1_Python_inGC/blob/main/semana4_biopython.ipynb\" target=\"_parent\"><img src=\"https://colab.research.google.com/assets/colab-badge.svg\" alt=\"Open In Colab\"/></a>"
      ]
    },
    {
      "cell_type": "markdown",
      "source": [
        "# Bases de datos biológicas\n",
        "Las base de datos biológicas son repositorios especializados que almacenan y organizan información relacionada con la biología molecular, la genética, la bioinformática y otras disciplinas. Continen información acerca de secuencias nucleóticas, secuencias de proteínas, genomas, variación genética, redes y vías biológicas.\n",
        "\n",
        "*   Proporcionan acceso a grandes volumenes de información.\n",
        "*   Ayudan a estandarizar y anotar datos biologicos.\n",
        "*   Comparten información entre la comunidad científica.\n"
      ],
      "metadata": {
        "id": "uUTQQW11nuaZ"
      }
    },
    {
      "cell_type": "markdown",
      "source": [
        "\n",
        "\n",
        "*   [GenBank National Center for Biotechnology Information](https://www.ncbi.nlm.nih.gov/genbank/)\n",
        "*   [EMBL-EBI European Molecular Biology Laboratory](https://www.ebi.ac.uk/services)\n",
        "*   [DNA Data Bank of Japan](https://www.ddbj.nig.ac.jp/index-e.html)\n",
        "*   [National Genomics Data Center](https://ngdc.cncb.ac.cn/)\n",
        "\n",
        "### Bases de datos secundarias\n",
        "*   [UniProt](https://www.uniprot.org/)\n",
        "*   [PROSITE](https://prosite.expasy.org/)\n",
        "*   [Worldwide Protein Data Bank](https://www.wwpdb.org/)\n",
        "*   [RCSB Protein Data Bank](https://www.rcsb.org/)\n",
        "*   [ChEMBL](https://www.ebi.ac.uk/chembl/)\n",
        "*   [EcoCyc](https://ecocyc.org/)\n",
        "*   [BRENDA](https://www.brenda-enzymes.org/)\n",
        "*   [OMIM](https://www.omim.org/)\n",
        "*   [PubChem](https://pubchem.ncbi.nlm.nih.gov/)\n",
        "*   [Catalogue of Life](https://www.catalogueoflife.org/)\n",
        "\n"
      ],
      "metadata": {
        "id": "iHWbVwJGn-5_"
      }
    },
    {
      "cell_type": "markdown",
      "source": [
        "### BioPython\n",
        "Es una biblioteca con una colección de herramientas enfocadas a la biología computacional y bioinformática."
      ],
      "metadata": {
        "id": "BYYEKth2JELn"
      }
    },
    {
      "cell_type": "code",
      "execution_count": null,
      "metadata": {
        "colab": {
          "base_uri": "https://localhost:8080/"
        },
        "id": "3fhaxD1unqgD",
        "outputId": "959f820c-faab-406d-d325-05af62c51031"
      },
      "outputs": [
        {
          "output_type": "stream",
          "name": "stdout",
          "text": [
            "Requirement already satisfied: Biopython in /usr/local/lib/python3.10/dist-packages (1.84)\n",
            "Requirement already satisfied: numpy in /usr/local/lib/python3.10/dist-packages (from Biopython) (1.26.4)\n"
          ]
        }
      ],
      "source": [
        "pip install Biopython"
      ]
    },
    {
      "cell_type": "markdown",
      "source": [
        "Leer un archivo Fasta"
      ],
      "metadata": {
        "id": "Mpb1Lh0lMUbo"
      }
    },
    {
      "cell_type": "markdown",
      "source": [
        "### Complemento"
      ],
      "metadata": {
        "id": "5JjDkol7B91X"
      }
    },
    {
      "cell_type": "markdown",
      "source": [
        "complemento inverso"
      ],
      "metadata": {
        "id": "U0GWFD_ujrhB"
      }
    },
    {
      "cell_type": "markdown",
      "source": [
        "###Composición de los nucleótidos"
      ],
      "metadata": {
        "id": "qQD_EGSPR3wZ"
      }
    },
    {
      "cell_type": "markdown",
      "source": [
        "### GC content"
      ],
      "metadata": {
        "id": "VvX8EjiqV3Eg"
      }
    },
    {
      "cell_type": "markdown",
      "source": [
        "### Transcripción"
      ],
      "metadata": {
        "id": "2DVk84fTxp_0"
      }
    },
    {
      "cell_type": "markdown",
      "source": [
        "### Traducción"
      ],
      "metadata": {
        "id": "JbdoAMyxmVME"
      }
    },
    {
      "cell_type": "markdown",
      "source": [
        "¿Todas las secuencias de inicio son iguales?"
      ],
      "metadata": {
        "id": "xnZFLbFIbBAh"
      }
    },
    {
      "cell_type": "markdown",
      "source": [
        "https://biopython.org/docs/latest/Tutorial/chapter_seq_objects.html"
      ],
      "metadata": {
        "id": "VFby1nDEIyRd"
      }
    },
    {
      "cell_type": "markdown",
      "source": [
        "### Conectarse a una base de datos"
      ],
      "metadata": {
        "id": "4_zAlxgnN7O1"
      }
    }
  ]
}