{
  "nbformat": 4,
  "nbformat_minor": 0,
  "metadata": {
    "colab": {
      "provenance": [],
      "toc_visible": true,
      "include_colab_link": true
    },
    "kernelspec": {
      "name": "python3",
      "display_name": "Python 3"
    },
    "language_info": {
      "name": "python"
    }
  },
  "cells": [
    {
      "cell_type": "markdown",
      "metadata": {
        "id": "view-in-github",
        "colab_type": "text"
      },
      "source": [
        "<a href=\"https://colab.research.google.com/github/flandreis/Tarea1_Python_inGC/blob/main/clase_4_ejercicios_de_python_lab.ipynb\" target=\"_parent\"><img src=\"https://colab.research.google.com/assets/colab-badge.svg\" alt=\"Open In Colab\"/></a>"
      ]
    },
    {
      "cell_type": "markdown",
      "source": [
        "# Ejercios en Python"
      ],
      "metadata": {
        "id": "V2oZc1We8LB3"
      }
    },
    {
      "cell_type": "markdown",
      "source": [
        "### Suma de strings\n",
        "Imprime el mensaje **Hola mundo!!!**\n",
        "\n",
        "Utiliza las variables para sumar tres cadenas de caracteres y observa el resultado.\n"
      ],
      "metadata": {
        "id": "ChHU_TA7OmOJ"
      }
    },
    {
      "cell_type": "code",
      "source": [
        "print(\"Hola\" + \" mundo\"+\"!!!\")"
      ],
      "metadata": {
        "colab": {
          "base_uri": "https://localhost:8080/"
        },
        "id": "-4aJy0vdEc6z",
        "outputId": "43488b6e-174c-41ab-f9fb-f835101b88a2"
      },
      "execution_count": null,
      "outputs": [
        {
          "output_type": "stream",
          "name": "stdout",
          "text": [
            "Hola mundo!!!\n"
          ]
        }
      ]
    },
    {
      "cell_type": "markdown",
      "source": [
        "### Suma de listas\n",
        "Crea una lista con 3 elementos, ejemplo **super**: tortillas, azúcar, café. Crea una segunda lista con 2 elementos, ejemplo **fruta**: uva, pera. Agrega una nueva variable llamada **sumastr** con la suma las dos listas e implimelo.\n",
        "\n",
        "Imprime los tres primeros elementos de la lista *sumastr*.\n",
        "\n",
        "Imprime el último elemento de la lista *sumastr*."
      ],
      "metadata": {
        "id": "t4eUTFDJSx2e"
      }
    },
    {
      "cell_type": "code",
      "source": [
        "super = [\"tortillas\", \"azúcar\", \"café\"]\n",
        "fruta = [\"uva\", \"pera\"]\n",
        "sumastr = super + fruta\n",
        "print(sumastr)\n",
        "print(sumastr[0:3])\n",
        "print(sumastr[-1])"
      ],
      "metadata": {
        "colab": {
          "base_uri": "https://localhost:8080/"
        },
        "id": "kWbkUQ_ZFEXL",
        "outputId": "da47ada9-31ba-45af-f4bf-d91e7a79a088"
      },
      "execution_count": null,
      "outputs": [
        {
          "output_type": "stream",
          "name": "stdout",
          "text": [
            "['tortillas', 'azúcar', 'café', 'uva', 'pera']\n",
            "['tortillas', 'azúcar', 'café']\n",
            "pera\n"
          ]
        }
      ]
    },
    {
      "cell_type": "markdown",
      "source": [
        "### Promedio\n",
        "Escribe un programa para ingresar 3 números enteros y cálcular el promedio.\n",
        "\n",
        "Utiliza la funcion **input** para ingresar los valores."
      ],
      "metadata": {
        "id": "XtOGk8lozJcf"
      }
    },
    {
      "cell_type": "code",
      "source": [
        "P1 = int(input(\"Ingrese Parcial 1: \"))\n",
        "P2 = int(input(\"Ingrese Parcial 2: \"))\n",
        "P3 = int(input(\"Ingrese Parcial 3: \"))\n",
        "Promedio = (P1 + P2 +P3)/3\n",
        "print(Promedio)"
      ],
      "metadata": {
        "colab": {
          "base_uri": "https://localhost:8080/"
        },
        "id": "1-LH0AILGmCm",
        "outputId": "2c603df4-d07b-45d0-cd28-9de55da557c1"
      },
      "execution_count": null,
      "outputs": [
        {
          "output_type": "stream",
          "name": "stdout",
          "text": [
            "Ingrese Parcial 1: 98\n",
            "Ingrese Parcial 2: 100\n",
            "Ingrese Parcial 3: 100\n",
            "99.33333333333333\n"
          ]
        }
      ]
    },
    {
      "cell_type": "markdown",
      "source": [
        "### Calculadora de Áreas\n",
        "Escribe un programa que calcule el área y el perímetro de un rectángulo. El programa debe solicitar al usuario la base y la altura, y luego mostrar el área y el perímetro.\n",
        "\n",
        "Utiliza los tipos de datos numéricos y operaciones aritméticas."
      ],
      "metadata": {
        "id": "N3IXAYlL8M8c"
      }
    },
    {
      "cell_type": "code",
      "source": [
        "B = int(input(\"Ingrese valor de base: \"))\n",
        "h = int(input(\"Ingrese valor de la altura: \"))\n",
        "a = B * h\n",
        "p = 2*(B *h)\n",
        "print(\"área de rectángulo= \" + str(a) + \"m\")\n",
        "print(\"perímetro de rectángulo= \" +  str(p) + \"m\")"
      ],
      "metadata": {
        "colab": {
          "base_uri": "https://localhost:8080/"
        },
        "id": "Vr2qhbeiHtVk",
        "outputId": "40203fee-cdc4-4d2e-f2da-500aeba868e5"
      },
      "execution_count": 5,
      "outputs": [
        {
          "output_type": "stream",
          "name": "stdout",
          "text": [
            "Ingrese valor de base: 2\n",
            "Ingrese valor de la altura: 5\n",
            "área de rectángulo= 10m\n",
            "perímetro de rectángulo= 20m\n"
          ]
        }
      ]
    },
    {
      "cell_type": "markdown",
      "source": [
        "### Conversión de Temperaturas\n",
        "Escribe un programa que convierta una temperatura dada en grados Fahrenheit a grados Celsius.\n",
        "\n",
        "Utiliza la conversión de tipos de datos y operaciones aritméticas."
      ],
      "metadata": {
        "id": "7IAgVlh_8NG2"
      }
    },
    {
      "cell_type": "code",
      "source": [
        "TF = int(input(\"Ingrese temperatura en grados Fahrenheit: \"))\n",
        "TC = (TF - 32) / 1.8\n",
        "print(\"Temperatura en Celsius= \" + str(TC) + \"°C\")"
      ],
      "metadata": {
        "colab": {
          "base_uri": "https://localhost:8080/"
        },
        "id": "qIUZORo41mM_",
        "outputId": "d0095968-e670-47f6-cbc2-cca97b939b87"
      },
      "execution_count": 7,
      "outputs": [
        {
          "output_type": "stream",
          "name": "stdout",
          "text": [
            "Ingrese temperatura en grados Fahrenheit: 68\n",
            "Temperatura en Celsius= 20.0°C\n"
          ]
        }
      ]
    },
    {
      "cell_type": "markdown",
      "source": [
        "### ¿Aprobado? Verifica si la calificación es aprobatoria\n",
        "Solicita que se ingrese la calificación de 0 a 100, si es mayor a 60 imprime el mensaje aprobado, de lo contrario imprime el mensaje reprobado.\n",
        "\n",
        "Utiliza las condicionales para realizar el ejercicio."
      ],
      "metadata": {
        "id": "lrilrpaPgTme"
      }
    },
    {
      "cell_type": "code",
      "source": [
        "Calif= int(input(\"Ingrese calificación:\"))\n",
        "if Calif >= 60:\n",
        "    print(\"Aprobado\")\n",
        "else:\n",
        "    print(\"Reprobado\")"
      ],
      "metadata": {
        "colab": {
          "base_uri": "https://localhost:8080/"
        },
        "id": "npBuDnM-2TLB",
        "outputId": "68dc795d-e034-4115-8864-08e5c2e7b110"
      },
      "execution_count": 11,
      "outputs": [
        {
          "output_type": "stream",
          "name": "stdout",
          "text": [
            "Ingrese calificación:98\n",
            "Aprobado\n"
          ]
        }
      ]
    },
    {
      "cell_type": "markdown",
      "source": [
        "### Calculadora de descuentos\n",
        "Escribe un programa que solicite el precio de un producto y la cantidad comprada. Si la cantidad es mayor a 10, aplica un descuento del 10%. Muestra el precio final.\n",
        "\n",
        "Practicar el uso de *if*, *else* y operadores aritméticos."
      ],
      "metadata": {
        "id": "YsEJbJuGEr3U"
      }
    },
    {
      "cell_type": "code",
      "source": [
        "precio = float(input(\"Ingrese el precio de su producto: \"))\n",
        "cant = int(input(\"Ingrese la cantidad comprada: \"))\n",
        "\n",
        "if cant > 10:\n",
        "    descuento = precio * 0.10\n",
        "    precio_final = precio - descuento\n",
        "    print(\"Precio final con descuento: \", precio_final)\n",
        "else:\n",
        "    print(\"Precio final sin descuento: \", precio)\n"
      ],
      "metadata": {
        "colab": {
          "base_uri": "https://localhost:8080/"
        },
        "id": "DD_iSf5M89kF",
        "outputId": "7f079e8f-ba4b-49d5-fabb-6a42a29cd9fa"
      },
      "execution_count": 14,
      "outputs": [
        {
          "output_type": "stream",
          "name": "stdout",
          "text": [
            "Ingrese el precio del producto: 30\n",
            "Ingrese la cantidad comprada: 500\n",
            "Precio final con descuento:  27.0\n"
          ]
        }
      ]
    },
    {
      "cell_type": "markdown",
      "source": [
        "### Calculadora\n",
        "Escribe un programa que solicite al usuario dos números y una operación (suma, resta, multiplicación, división). Luego, realiza la operación y muestra el resultado.\n",
        "\n",
        "Practica el uso de operadores aritméticos y expresiones condicionales."
      ],
      "metadata": {
        "id": "arcFa4BaCeRL"
      }
    },
    {
      "cell_type": "code",
      "source": [
        "V1 = int(input(\"ingrese valor 1: \"))\n",
        "V2 = int(input(\"ingrese valor 2: \"))\n",
        "op1 = input(\"ingrese operación: \")\n",
        "if op1 == \"suma\":\n",
        "    print(V1 + V2)\n",
        "elif op1 == \"resta\":\n",
        "    print(V1 - V2)\n",
        "elif op1 == \"multiplicación\":\n",
        "    print(V1 * V2)\n",
        "elif op1 == \"división\":\n",
        "    print(V1 // V2)\n"
      ],
      "metadata": {
        "colab": {
          "base_uri": "https://localhost:8080/"
        },
        "id": "xGFHhkr1AKo2",
        "outputId": "552f50e7-01d8-4a9f-ea91-ab71944b3a2b"
      },
      "execution_count": 20,
      "outputs": [
        {
          "output_type": "stream",
          "name": "stdout",
          "text": [
            "ingrese valor 1: 4\n",
            "ingrese valor 2: 7\n",
            "ingrese operación: división\n",
            "0.5714285714285714\n"
          ]
        }
      ]
    },
    {
      "cell_type": "markdown",
      "source": [
        "### Par o impar\n",
        "Escribe un programa que solicite un número al usuario y determine si es par o impar.\n",
        "\n",
        "Usar operadores aritméticos y condicionales.\n",
        "\n",
        "Investiga el uso del operador de módulo **%**."
      ],
      "metadata": {
        "id": "oeaGbyVN-vYf"
      }
    },
    {
      "cell_type": "code",
      "source": [
        "Num = int(input(\"Ingrese un número: \"))\n",
        "if Num % 2 == 0:\n",
        "    print(\"El número es par\")\n",
        "else:\n",
        "    print(\"El número es impar\")"
      ],
      "metadata": {
        "colab": {
          "base_uri": "https://localhost:8080/"
        },
        "id": "0YWSjiDzCjmG",
        "outputId": "7a0a75a4-d982-4e1f-ac74-9a10a70c4785"
      },
      "execution_count": 22,
      "outputs": [
        {
          "output_type": "stream",
          "name": "stdout",
          "text": [
            "Ingrese un número: 28\n",
            "El número es par\n"
          ]
        }
      ]
    },
    {
      "cell_type": "markdown",
      "source": [
        "### Promedio de notas\n",
        "Escribe un programa que solicite al usuario varias notas (almacenadas en una lista) y calcule el promedio.\n",
        "\n",
        "Practicar el uso de listas y operaciones básicas (sumar, calcular el promedio)."
      ],
      "metadata": {
        "id": "fhHmQwcFDADj"
      }
    },
    {
      "cell_type": "markdown",
      "source": [],
      "metadata": {
        "id": "QyfTowhbFbQ-"
      }
    },
    {
      "cell_type": "code",
      "source": [
        "notas = [] #lista vacía para poder iterar correctamente\n",
        "num_notas = int(input(\"¿Cuántas notas quieres ingresar? \"))\n",
        "\n",
        "for i in range(num_notas):\n",
        "  nota = float(input(f\"Ingresa la nota {i+1}: \"))\n",
        "  notas.append(nota)\n",
        "\n",
        "promedio = sum(notas) / num_notas\n",
        "print(\"El promedio de las notas es:\", promedio)"
      ],
      "metadata": {
        "colab": {
          "base_uri": "https://localhost:8080/"
        },
        "id": "SavEHrvMD0tP",
        "outputId": "62c91f21-a694-4ed9-8236-2ea6e1b89a9e"
      },
      "execution_count": 24,
      "outputs": [
        {
          "output_type": "stream",
          "name": "stdout",
          "text": [
            "¿Cuántas notas quieres ingresar? 3\n",
            "Ingresa la nota 1: 98\n",
            "Ingresa la nota 2: 100\n",
            "Ingresa la nota 3: 99\n",
            "El promedio de las notas es: 99.0\n"
          ]
        }
      ]
    },
    {
      "cell_type": "markdown",
      "source": [
        "### Par y su cubo\n",
        "Imprime los números pares y su valor al cubo en números del 0 al 20.\n",
        "\n",
        "Utiliza el bucle for y range."
      ],
      "metadata": {
        "id": "3k9tg-CHk2-D"
      }
    },
    {
      "cell_type": "code",
      "source": [
        "Num_par = []\n",
        "for i in range(21):\n",
        "    if i % 2 == 0:\n",
        "        Num_par.append(i)\n",
        "num_cubo = []\n",
        "for i in Num_par:\n",
        "    num_cubo.append(i**3)\n",
        "print(\"Numeros par\" , Num_par)\n",
        "print(\"Numeros par al cubo\" , num_cubo)"
      ],
      "metadata": {
        "colab": {
          "base_uri": "https://localhost:8080/"
        },
        "id": "C3cPssuLGFRl",
        "outputId": "6c7c74b7-90c8-4a39-a04c-6aa72993efeb"
      },
      "execution_count": 27,
      "outputs": [
        {
          "output_type": "stream",
          "name": "stdout",
          "text": [
            "Numeros par [0, 2, 4, 6, 8, 10, 12, 14, 16, 18, 20]\n",
            "Numeros par al cubo [0, 8, 64, 216, 512, 1000, 1728, 2744, 4096, 5832, 8000]\n"
          ]
        }
      ]
    },
    {
      "cell_type": "markdown",
      "source": [
        "### Saludo\n",
        "Programa una función que arroje un saludo."
      ],
      "metadata": {
        "id": "i2vA4_II0bD3"
      }
    },
    {
      "cell_type": "code",
      "source": [
        "N = input(\"Ingrese su nombre: \")\n",
        "print(\"¡ Hola \" + N,\"! :)\")"
      ],
      "metadata": {
        "colab": {
          "base_uri": "https://localhost:8080/"
        },
        "id": "6QrZlYyJGyNk",
        "outputId": "462ce190-7fe1-4fdd-901b-61bea8c6b34a"
      },
      "execution_count": 32,
      "outputs": [
        {
          "output_type": "stream",
          "name": "stdout",
          "text": [
            "Ingrese su nombre: Andrea\n",
            "¡ Hola Andrea !:)\n"
          ]
        }
      ]
    },
    {
      "cell_type": "markdown",
      "source": [
        "### Determinar si un número es primo\n",
        "Programa una función para imprimir los números primos del 1 al 1000."
      ],
      "metadata": {
        "id": "ZkarkmMWqMmm"
      }
    },
    {
      "cell_type": "code",
      "source": [
        "Num_primo = []\n",
        "for i in range(1001):\n",
        "  if i % 2== 1:\n",
        "    Num_primo.append(i)\n",
        "print(Num_primo)"
      ],
      "metadata": {
        "colab": {
          "base_uri": "https://localhost:8080/"
        },
        "id": "_Fb-ZFB1H0Zi",
        "outputId": "82052616-95b6-444a-c14e-89b4079fbc92"
      },
      "execution_count": 34,
      "outputs": [
        {
          "output_type": "stream",
          "name": "stdout",
          "text": [
            "[1, 3, 5, 7, 9, 11, 13, 15, 17, 19, 21, 23, 25, 27, 29, 31, 33, 35, 37, 39, 41, 43, 45, 47, 49, 51, 53, 55, 57, 59, 61, 63, 65, 67, 69, 71, 73, 75, 77, 79, 81, 83, 85, 87, 89, 91, 93, 95, 97, 99, 101, 103, 105, 107, 109, 111, 113, 115, 117, 119, 121, 123, 125, 127, 129, 131, 133, 135, 137, 139, 141, 143, 145, 147, 149, 151, 153, 155, 157, 159, 161, 163, 165, 167, 169, 171, 173, 175, 177, 179, 181, 183, 185, 187, 189, 191, 193, 195, 197, 199, 201, 203, 205, 207, 209, 211, 213, 215, 217, 219, 221, 223, 225, 227, 229, 231, 233, 235, 237, 239, 241, 243, 245, 247, 249, 251, 253, 255, 257, 259, 261, 263, 265, 267, 269, 271, 273, 275, 277, 279, 281, 283, 285, 287, 289, 291, 293, 295, 297, 299, 301, 303, 305, 307, 309, 311, 313, 315, 317, 319, 321, 323, 325, 327, 329, 331, 333, 335, 337, 339, 341, 343, 345, 347, 349, 351, 353, 355, 357, 359, 361, 363, 365, 367, 369, 371, 373, 375, 377, 379, 381, 383, 385, 387, 389, 391, 393, 395, 397, 399, 401, 403, 405, 407, 409, 411, 413, 415, 417, 419, 421, 423, 425, 427, 429, 431, 433, 435, 437, 439, 441, 443, 445, 447, 449, 451, 453, 455, 457, 459, 461, 463, 465, 467, 469, 471, 473, 475, 477, 479, 481, 483, 485, 487, 489, 491, 493, 495, 497, 499, 501, 503, 505, 507, 509, 511, 513, 515, 517, 519, 521, 523, 525, 527, 529, 531, 533, 535, 537, 539, 541, 543, 545, 547, 549, 551, 553, 555, 557, 559, 561, 563, 565, 567, 569, 571, 573, 575, 577, 579, 581, 583, 585, 587, 589, 591, 593, 595, 597, 599, 601, 603, 605, 607, 609, 611, 613, 615, 617, 619, 621, 623, 625, 627, 629, 631, 633, 635, 637, 639, 641, 643, 645, 647, 649, 651, 653, 655, 657, 659, 661, 663, 665, 667, 669, 671, 673, 675, 677, 679, 681, 683, 685, 687, 689, 691, 693, 695, 697, 699, 701, 703, 705, 707, 709, 711, 713, 715, 717, 719, 721, 723, 725, 727, 729, 731, 733, 735, 737, 739, 741, 743, 745, 747, 749, 751, 753, 755, 757, 759, 761, 763, 765, 767, 769, 771, 773, 775, 777, 779, 781, 783, 785, 787, 789, 791, 793, 795, 797, 799, 801, 803, 805, 807, 809, 811, 813, 815, 817, 819, 821, 823, 825, 827, 829, 831, 833, 835, 837, 839, 841, 843, 845, 847, 849, 851, 853, 855, 857, 859, 861, 863, 865, 867, 869, 871, 873, 875, 877, 879, 881, 883, 885, 887, 889, 891, 893, 895, 897, 899, 901, 903, 905, 907, 909, 911, 913, 915, 917, 919, 921, 923, 925, 927, 929, 931, 933, 935, 937, 939, 941, 943, 945, 947, 949, 951, 953, 955, 957, 959, 961, 963, 965, 967, 969, 971, 973, 975, 977, 979, 981, 983, 985, 987, 989, 991, 993, 995, 997, 999]\n"
          ]
        }
      ]
    },
    {
      "cell_type": "markdown",
      "source": [
        "### Comprobar contraseña\n",
        "Programa una función que compruebe la contraseña, pide al usuario que ingrese la contraseña, imprime contraseña correcta o incorrecta según sea el caso."
      ],
      "metadata": {
        "id": "C9eyltQn10iD"
      }
    },
    {
      "cell_type": "code",
      "source": [
        "def contraseña_correcta():\n",
        "  print(\"Verificar su contraseña\")\n",
        "  contraseña_correcta = \"Contraseña\"\n",
        "  contraseña_ingresada = input(\"Ingrese su contraseña: \")\n",
        "  if contraseña_ingresada == contraseña_correcta:\n",
        "    print(\"Contraseña correcta\")\n",
        "  else:\n",
        "    print(\"Contraseña incorrecta\")"
      ],
      "metadata": {
        "id": "b7occdAi11GN"
      },
      "execution_count": 42,
      "outputs": []
    }
  ]
}